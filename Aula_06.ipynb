{
  "nbformat": 4,
  "nbformat_minor": 0,
  "metadata": {
    "colab": {
      "provenance": [],
      "collapsed_sections": [
        "18u4P6_fjHTa"
      ],
      "include_colab_link": true
    },
    "kernelspec": {
      "name": "python3",
      "display_name": "Python 3"
    },
    "language_info": {
      "name": "python"
    }
  },
  "cells": [
    {
      "cell_type": "markdown",
      "metadata": {
        "id": "view-in-github",
        "colab_type": "text"
      },
      "source": [
        "<a href=\"https://colab.research.google.com/github/MateusFreitas-C/Pesquisa-Operacional/blob/main/Aula_06.ipynb\" target=\"_parent\"><img src=\"https://colab.research.google.com/assets/colab-badge.svg\" alt=\"Open In Colab\"/></a>"
      ]
    },
    {
      "cell_type": "markdown",
      "source": [
        "# Aula prática: Bin Packing\n"
      ],
      "metadata": {
        "id": "KkkfGB7mizn4"
      }
    },
    {
      "cell_type": "markdown",
      "source": [
        "## Exercício 1\n"
      ],
      "metadata": {
        "id": "6Pq0qYFUi66C"
      }
    },
    {
      "cell_type": "markdown",
      "source": [
        "### Descrição do problema\n",
        "Uma faculdade quer agendar as provas de 6 disciplinas. Existe uma regra que proíbe que o mesmo aluno tenha que fazer mais de uma prova por dia. A tabela abaixo mostra quais alunos (identificados por números) vão fazer a prova de cada disciplina. Por exemplo, A e B não podem ser agendadas no mesmo dia por causa do aluno 1. Já B e C poderiam ser agendadas no mesmo dia, pois nenhum aluno vai fazer essas duas provas.\n",
        "\n",
        "| Disciplina | Alunos |\n",
        "|:---:|:---:|\n",
        "| A | 1, 2, 3, 4 |\n",
        "| B | 1, 5 |\n",
        "| C | 3, 6, 7 |\n",
        "| D | 5, 7 |\n",
        "| E | 2, 7 |\n",
        "| F | 4, 5 |\n",
        "\n",
        "Crie um modelo de PLI para agendar essas provas no menor número de dias possível.\n",
        "**Dica: baseie-se no modelo do problema de empacotamento de caixas.**\n"
      ],
      "metadata": {
        "id": "18u4P6_fjHTa"
      }
    },
    {
      "cell_type": "markdown",
      "source": [
        "### Resolução"
      ],
      "metadata": {
        "id": "EW2_LyQlkB9Y"
      }
    },
    {
      "cell_type": "code",
      "execution_count": null,
      "metadata": {
        "id": "UToKjaulioTm",
        "colab": {
          "base_uri": "https://localhost:8080/"
        },
        "outputId": "bc702d99-46b9-472c-a6ad-728c2ee8badb"
      },
      "outputs": [
        {
          "output_type": "stream",
          "name": "stdout",
          "text": [
            "Requirement already satisfied: mip in /usr/local/lib/python3.10/dist-packages (1.15.0)\n",
            "Requirement already satisfied: cffi==1.15.* in /usr/local/lib/python3.10/dist-packages (from mip) (1.15.1)\n",
            "Requirement already satisfied: pycparser in /usr/local/lib/python3.10/dist-packages (from cffi==1.15.*->mip) (2.22)\n"
          ]
        }
      ],
      "source": [
        "# instalação e importação do pacote mip\n",
        "!pip install mip\n",
        "from mip import *\n",
        "\n",
        "# funcões usadas posteriormente:\n",
        "\n",
        "# resolve o modelo e mostra os valores das variáveis\n",
        "def solve(model):\n",
        "  status = model.optimize()\n",
        "\n",
        "  print(\"Status = \", status)\n",
        "  if status != OptimizationStatus.OPTIMAL:\n",
        "    return\n",
        "\n",
        "  print(f\"Solution value  = {model.objective_value:.2f}\\n\")\n",
        "\n",
        "  print(\"Solution:\")\n",
        "  for v in model.vars:\n",
        "    if v.x > 0.001:\n",
        "      print(f\"{v.name} = {v.x:.2f}\")\n",
        "\n",
        "\n",
        "# salva modelo em arquivo lp, e mostra o conteúdo\n",
        "def save(model, filename):\n",
        "  model.write(filename) # salva modelo em arquivo\n",
        "  with open(filename, \"r\") as f: # lê e exibe conteúdo do arquivo\n",
        "    print(f.read())"
      ]
    },
    {
      "cell_type": "code",
      "source": [
        "model = Model(sense=MINIMIZE, solver_name=CBC)\n",
        "\n",
        "#Dia[i]\n",
        "x = [model.add_var(var_type=BINARY, name=f\"x{i}\") for i in range(6)]\n",
        "#Prova i dia j\n",
        "y = [[model.add_var(var_type=BINARY, name=f\"y{i}_{j}\") for i in range(6)] for j in range(6)]\n",
        "\n",
        "model.objective = xsum(x[i] for i in range(6))\n",
        "\n",
        "for i in range(6):\n",
        "  model += xsum(y[i][j] for j in range(6)) == 1\n",
        "\n",
        "for i in range(6):\n",
        "  model += y[0][i] + y[1][i] <= 1 * x[i]\n",
        "\n",
        "for i in range(6):\n",
        "  model += y[0][i] + y[4][i] <= 1 * x[i]\n",
        "\n",
        "for i in range(6):\n",
        "  model += y[0][i] + y[2][i] <= 1 * x[i]\n",
        "\n",
        "for i in range(6):\n",
        "  model += y[0][i] + y[5][i] <= 1 * x[i]\n",
        "\n",
        "for i in range(6):\n",
        "  model += y[1][i] + y[3][i] + y[5][i] <= 1 * x[i]\n",
        "\n",
        "for i in range(6):\n",
        "  model += y[2][i] + y[3][i] + y[4][i] <= 1 * x[i]\n",
        "\n",
        "save(model, \"model.lp\")"
      ],
      "metadata": {
        "id": "zL3qpuLbkFDK",
        "colab": {
          "base_uri": "https://localhost:8080/"
        },
        "outputId": "82604322-fa0d-44bc-a55a-69a27c86ce80"
      },
      "execution_count": null,
      "outputs": [
        {
          "output_type": "stream",
          "name": "stdout",
          "text": [
            "\\Problem name: \n",
            "\n",
            "Minimize\n",
            "OBJROW: x0 + x1 + x2 + x3 + x4 + x5\n",
            "Subject To\n",
            "constr(0):  y0_0 + y1_0 + y2_0 + y3_0 + y4_0 + y5_0 = 1\n",
            "constr(1):  y0_1 + y1_1 + y2_1 + y3_1 + y4_1 + y5_1 = 1\n",
            "constr(2):  y0_2 + y1_2 + y2_2 + y3_2 + y4_2 + y5_2 = 1\n",
            "constr(3):  y0_3 + y1_3 + y2_3 + y3_3 + y4_3 + y5_3 = 1\n",
            "constr(4):  y0_4 + y1_4 + y2_4 + y3_4 + y4_4 + y5_4 = 1\n",
            "constr(5):  y0_5 + y1_5 + y2_5 + y3_5 + y4_5 + y5_5 = 1\n",
            "constr(6):  - x0 + y0_0 + y0_1 <= -0\n",
            "constr(7):  - x1 + y1_0 + y1_1 <= -0\n",
            "constr(8):  - x2 + y2_0 + y2_1 <= -0\n",
            "constr(9):  - x3 + y3_0 + y3_1 <= -0\n",
            "constr(10):  - x4 + y4_0 + y4_1 <= -0\n",
            "constr(11):  - x5 + y5_0 + y5_1 <= -0\n",
            "constr(12):  - x0 + y0_0 + y0_4 <= -0\n",
            "constr(13):  - x1 + y1_0 + y1_4 <= -0\n",
            "constr(14):  - x2 + y2_0 + y2_4 <= -0\n",
            "constr(15):  - x3 + y3_0 + y3_4 <= -0\n",
            "constr(16):  - x4 + y4_0 + y4_4 <= -0\n",
            "constr(17):  - x5 + y5_0 + y5_4 <= -0\n",
            "constr(18):  - x0 + y0_0 + y0_2 <= -0\n",
            "constr(19):  - x1 + y1_0 + y1_2 <= -0\n",
            "constr(20):  - x2 + y2_0 + y2_2 <= -0\n",
            "constr(21):  - x3 + y3_0 + y3_2 <= -0\n",
            "constr(22):  - x4 + y4_0 + y4_2 <= -0\n",
            "constr(23):  - x5 + y5_0 + y5_2 <= -0\n",
            "constr(24):  - x0 + y0_0 + y0_5 <= -0\n",
            "constr(25):  - x1 + y1_0 + y1_5 <= -0\n",
            "constr(26):  - x2 + y2_0 + y2_5 <= -0\n",
            "constr(27):  - x3 + y3_0 + y3_5 <= -0\n",
            "constr(28):  - x4 + y4_0 + y4_5 <= -0\n",
            "constr(29):  - x5 + y5_0 + y5_5 <= -0\n",
            "constr(30):  - x0 + y0_1 + y0_3 + y0_5 <= -0\n",
            "constr(31):  - x1 + y1_1 + y1_3 + y1_5 <= -0\n",
            "constr(32):  - x2 + y2_1 + y2_3 + y2_5 <= -0\n",
            "constr(33):  - x3 + y3_1 + y3_3 + y3_5 <= -0\n",
            "constr(34):  - x4 + y4_1 + y4_3 + y4_5 <= -0\n",
            "constr(35):  - x5 + y5_1 + y5_3 + y5_5 <= -0\n",
            "constr(36):  - x0 + y0_2 + y0_3 + y0_4 <= -0\n",
            "constr(37):  - x1 + y1_2 + y1_3 + y1_4 <= -0\n",
            "constr(38):  - x2 + y2_2 + y2_3 + y2_4 <= -0\n",
            "constr(39):  - x3 + y3_2 + y3_3 + y3_4 <= -0\n",
            "constr(40):  - x4 + y4_2 + y4_3 + y4_4 <= -0\n",
            "constr(41):  - x5 + y5_2 + y5_3 + y5_4 <= -0\n",
            "Bounds\n",
            " 0 <= x0 <= 1\n",
            " 0 <= x1 <= 1\n",
            " 0 <= x2 <= 1\n",
            " 0 <= x3 <= 1\n",
            " 0 <= x4 <= 1\n",
            " 0 <= x5 <= 1\n",
            " 0 <= y0_0 <= 1\n",
            " 0 <= y1_0 <= 1\n",
            " 0 <= y2_0 <= 1\n",
            " 0 <= y3_0 <= 1\n",
            " 0 <= y4_0 <= 1\n",
            " 0 <= y5_0 <= 1\n",
            " 0 <= y0_1 <= 1\n",
            " 0 <= y1_1 <= 1\n",
            " 0 <= y2_1 <= 1\n",
            " 0 <= y3_1 <= 1\n",
            " 0 <= y4_1 <= 1\n",
            " 0 <= y5_1 <= 1\n",
            " 0 <= y0_2 <= 1\n",
            " 0 <= y1_2 <= 1\n",
            " 0 <= y2_2 <= 1\n",
            " 0 <= y3_2 <= 1\n",
            " 0 <= y4_2 <= 1\n",
            " 0 <= y5_2 <= 1\n",
            " 0 <= y0_3 <= 1\n",
            " 0 <= y1_3 <= 1\n",
            " 0 <= y2_3 <= 1\n",
            " 0 <= y3_3 <= 1\n",
            " 0 <= y4_3 <= 1\n",
            " 0 <= y5_3 <= 1\n",
            " 0 <= y0_4 <= 1\n",
            " 0 <= y1_4 <= 1\n",
            " 0 <= y2_4 <= 1\n",
            " 0 <= y3_4 <= 1\n",
            " 0 <= y4_4 <= 1\n",
            " 0 <= y5_4 <= 1\n",
            " 0 <= y0_5 <= 1\n",
            " 0 <= y1_5 <= 1\n",
            " 0 <= y2_5 <= 1\n",
            " 0 <= y3_5 <= 1\n",
            " 0 <= y4_5 <= 1\n",
            " 0 <= y5_5 <= 1\n",
            "Integers\n",
            "x0 x1 x2 x3 x4 x5 y0_0 y1_0 y2_0 y3_0 \n",
            "y4_0 y5_0 y0_1 y1_1 y2_1 y3_1 y4_1 y5_1 y0_2 y1_2 \n",
            "y2_2 y3_2 y4_2 y5_2 y0_3 y1_3 y2_3 y3_3 y4_3 y5_3 \n",
            "y0_4 y1_4 y2_4 y3_4 y4_4 y5_4 y0_5 y1_5 y2_5 y3_5 \n",
            "y4_5 y5_5 \n",
            "End\n",
            "\n"
          ]
        }
      ]
    },
    {
      "cell_type": "code",
      "source": [
        "solve(model)"
      ],
      "metadata": {
        "id": "hpkM_kZ1qthr",
        "colab": {
          "base_uri": "https://localhost:8080/"
        },
        "outputId": "af681312-2dc9-4341-9956-6d1b26f4b747"
      },
      "execution_count": null,
      "outputs": [
        {
          "output_type": "stream",
          "name": "stdout",
          "text": [
            "Status =  OptimizationStatus.OPTIMAL\n",
            "Solution value  = 3.00\n",
            "\n",
            "Solution:\n",
            "x0 = 1.00\n",
            "x3 = 1.00\n",
            "x4 = 1.00\n",
            "y3_0 = 1.00\n",
            "y4_1 = 1.00\n",
            "y4_2 = 1.00\n",
            "y3_3 = 1.00\n",
            "y0_4 = 1.00\n",
            "y0_5 = 1.00\n"
          ]
        }
      ]
    }
  ]
}