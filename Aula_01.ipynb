{
  "cells": [
    {
      "cell_type": "markdown",
      "metadata": {
        "id": "view-in-github",
        "colab_type": "text"
      },
      "source": [
        "<a href=\"https://colab.research.google.com/github/MateusFreitas-C/Pesquisa-Operacional/blob/main/Aula_01.ipynb\" target=\"_parent\"><img src=\"https://colab.research.google.com/assets/colab-badge.svg\" alt=\"Open In Colab\"/></a>"
      ]
    },
    {
      "cell_type": "markdown",
      "metadata": {
        "id": "btv0znHmsR5D"
      },
      "source": [
        "# Aula prática: Mix de Produção\n",
        "<sup>Adaptado dos exercícios 2.3 e 2.5 do livro `Pesquisa Operacional`, de `Arenales, Armentano, Morabito e Yanasse`.</sup>"
      ]
    },
    {
      "cell_type": "markdown",
      "metadata": {
        "id": "0hUSOEftsR5E"
      },
      "source": [
        "## Exercício 1"
      ]
    },
    {
      "cell_type": "markdown",
      "metadata": {
        "id": "T_SOsXELsR5E"
      },
      "source": [
        "### Descrição do problema\n",
        "Uma fundição tem de produzir 10 toneladas de um tipo de liga metálica e, para isso, tem disponível: lingotes de ferro, grafite e sucata. Dois componentes são relevantes para a liga: carbono e silício. As tabelas a seguir fornecem a fração, em termos percentuais, desses elementos nos ingredientes disponíveis, seus custos unitários, bem como a composição da liga (isto é, porcentagens mínima e máxima de cada componente da liga).\n",
        "\n",
        "Frações dos elementos (%) nos ingredientes e custo dos ingredientes (R$/ton):\n",
        "\n",
        "| | Lingotes | Grafite | Sucata |\n",
        "|:---|:---:|:---:|:---:|\n",
        "| Carbono | 0.5 | 90 | 9 |\n",
        "| Silício | 14 | - | 27 |\n",
        "| Custo | 90 | 180 | 25 |\n",
        "\n",
        "Frações (%) mínima e máxima dos componentes na liga:\n",
        "\n",
        "| | min | max |\n",
        "|:---|:---:|:---:|\n",
        "|Carbono | 0.0 | 9.5 |\n",
        "|Silício | 19 | 20 |\n",
        "\n",
        "\n",
        "Escreva um modelo de otimização linear para determinar as quantidades dos ingredientes para compor a liga metálica, de modo que as especificações técnicas sejam satisfeitas e o custo seja mínimo."
      ]
    },
    {
      "cell_type": "markdown",
      "metadata": {
        "id": "EtPxBakTtQbV"
      },
      "source": [
        "### Resolução\n",
        "\n",
        "#### Resposta\n",
        "\n",
        "$$ Min Z = 90 * X1 + 180 * X2 + 25 * X3 $$\n",
        "\n",
        "\n",
        "\n",
        "S. a\n",
        "$$ X1 + X2 + X3 = 10 $$\n",
        "$$ 0\\leq 0,5 * X1 + 90 * X2 + 9 * X3 \\leq 9,5 $$\n",
        "$$ 19\\leq 14 * X1 + 0 * X2 + 27 * X3 \\leq 20 $$\n",
        "$$ X1, X2, X3 \\geq 0 $$"
      ]
    },
    {
      "cell_type": "code",
      "execution_count": null,
      "metadata": {
        "id": "7pMG-i60tGC4"
      },
      "outputs": [],
      "source": [
        "# instalação e importação do pacote mip\n",
        "from mip import *"
      ]
    },
    {
      "cell_type": "markdown",
      "metadata": {
        "id": "Soe9owdkxmmg"
      },
      "source": [
        "Carrega Dados"
      ]
    },
    {
      "cell_type": "code",
      "execution_count": null,
      "metadata": {
        "id": "1foz1NwTtzuH"
      },
      "outputs": [],
      "source": [
        "# composição de cada ingrediente\n",
        "a = {\n",
        "    'l': {'c': 0.005, 's': 0.14},\n",
        "    'g': {'c': 0.9,   's': 0.0},\n",
        "    's': {'c': 0.09,  's': 0.27},\n",
        "}\n",
        "\n",
        "# custo\n",
        "c = {'l': 90, 'g': 180, 's': 25}\n",
        "\n",
        "# composições mínimas e máximas dos componentes\n",
        "n = {'c': 0.0, 's': 0.19}  # min\n",
        "m = {'c': 0.095, 's': 0.2} # max\n",
        "\n",
        "# quantidade desejada da liga\n",
        "Q = 10"
      ]
    },
    {
      "cell_type": "markdown",
      "metadata": {
        "id": "1tHfPbSfxp_k"
      },
      "source": [
        "Cria modelo"
      ]
    },
    {
      "cell_type": "code",
      "source": [
        "modelo = Model(sense=MINIMIZE, solver_name=CBC)\n",
        "\n",
        "#Criando variáveis\n",
        "x = [modelo.add_var(var_type=CONTINUOUS, name=f\"x_{i}\", lb=0.0) for i in range(3)]\n",
        "\n",
        "#Função objetivo\n",
        "modelo.objective = c['l']*x[0] + c['g']*x[1] + c['s']*x[2]\n",
        "\n",
        "#Quantidade total\n",
        "modelo += x[0] + x[1] + x[2] == Q\n",
        "\n",
        "#Restrição de carbono\n",
        "carbono = a['l']['c']*x[0] + a['g']['c']*x[1] + a['s']['c']*x[2]\n",
        "\n",
        "modelo += n['c']*Q <= carbono\n",
        "modelo += carbono <= m['c']*Q\n",
        "\n",
        "#Restrição de silicio\n",
        "silicio = a['l']['s']*x[0] + a['g']['s']*x[1] + a['s']['s']*x[2]\n",
        "\n",
        "modelo += n['s']*Q <= silicio\n",
        "modelo += silicio <= m['s']*Q\n",
        "\n",
        "modelo.write(\"model.lp\") # salva modelo em arquivo\n",
        "with open(\"model.lp\") as f: # lê e exibe conteúdo do arquivo\n",
        "  print(f.read())"
      ],
      "metadata": {
        "id": "woEL0ub3W17Q",
        "colab": {
          "base_uri": "https://localhost:8080/"
        },
        "outputId": "287929ed-b34b-4c11-9ab2-efa426825894"
      },
      "execution_count": null,
      "outputs": [
        {
          "output_type": "stream",
          "name": "stdout",
          "text": [
            "\\Problem name: \n",
            "\n",
            "Minimize\n",
            "OBJROW: 90 x_0 + 180 x_1 + 25 x_2\n",
            "Subject To\n",
            "constr(0):  x_0 + x_1 + x_2 = 10\n",
            "constr(1):  0.00500 x_0 + 0.90000 x_1 + 0.09000 x_2 >= -0\n",
            "constr(2):  0.00500 x_0 + 0.90000 x_1 + 0.09000 x_2 <= 0.95000\n",
            "constr(3):  0.14000 x_0 + 0.27000 x_2 >= 1.90000\n",
            "constr(4):  0.14000 x_0 + 0.27000 x_2 <= 2\n",
            "Bounds\n",
            "End\n",
            "\n"
          ]
        }
      ]
    },
    {
      "cell_type": "markdown",
      "metadata": {
        "id": "dC0dH9Vgx11z"
      },
      "source": [
        "Executa"
      ]
    },
    {
      "cell_type": "code",
      "execution_count": null,
      "metadata": {
        "id": "Ytos1fiAyt5n",
        "colab": {
          "base_uri": "https://localhost:8080/"
        },
        "outputId": "2cdbd640-2b74-44dc-d1ca-9c2ac56037fd"
      },
      "outputs": [
        {
          "output_type": "stream",
          "name": "stdout",
          "text": [
            "Status =  OptimizationStatus.OPTIMAL\n",
            "Solution value  = 600.00\n",
            "\n",
            "Solution:\n",
            "x_0 = 5.38\n",
            "x_1 = 0.00\n",
            "x_2 = 4.62\n"
          ]
        }
      ],
      "source": [
        "def solve(modelo):\n",
        "  status = modelo.optimize()\n",
        "\n",
        "  print(\"Status = \", status)\n",
        "  print(f\"Solution value  = {modelo.objective_value:.2f}\\n\")\n",
        "\n",
        "  print(\"Solution:\")\n",
        "  for v in modelo.vars:\n",
        "      print(f\"{v.name} = {v.x:.2f}\")\n",
        "\n",
        "solve(modelo)"
      ]
    },
    {
      "cell_type": "markdown",
      "metadata": {
        "id": "0Sp8kCaGsR5E"
      },
      "source": [
        "## Exercício 2"
      ]
    },
    {
      "cell_type": "markdown",
      "metadata": {
        "id": "7PPfPnU7sR5E"
      },
      "source": [
        "Agora considere que os ingredientes tem o estoque limitado, de acordo com a tabela abaixo.\n",
        "\n",
        "| | Lingotes | Grafite | Sucata |\n",
        "|:---|:---:|:---:|:---:|\n",
        "| Estoque (ton) | 5 | 5 | 12 |\n",
        "\n",
        "Como o modelo pode ser modificado para atender a esse requisito?"
      ]
    },
    {
      "cell_type": "markdown",
      "source": [
        "### Resposta\n",
        "\n",
        "$$ Min Z = 90 * X1 + 180 * X2 + 25 * X3 $$\n",
        "\n",
        "\n",
        "\n",
        "S. a\n",
        "$$ X1 + X2 + X3 = 10 $$\n",
        "$$ 0\\leq 0,5 * X1 + 90 * X2 + 9 * X3 \\leq 9,5 $$\n",
        "$$ 19\\leq 14 * X1 + 0 * X2 + 27 * X3 \\leq 20 $$\n",
        "$$ X1, X2, X3 \\geq 0 $$\n",
        "$$ X1 \\leq 5 $$\n",
        "$$ X2 \\leq 5 $$\n",
        "$$ X3 \\leq 12 $$"
      ],
      "metadata": {
        "id": "WmkWVpKF8Cey"
      }
    },
    {
      "cell_type": "markdown",
      "metadata": {
        "id": "fSrbmrBD0fb9"
      },
      "source": [
        "### Código"
      ]
    },
    {
      "cell_type": "markdown",
      "metadata": {
        "id": "2iAz0aU99Dxo"
      },
      "source": [
        "Carrega Dados"
      ]
    },
    {
      "cell_type": "code",
      "execution_count": null,
      "metadata": {
        "id": "Yz_PtRT89GxZ"
      },
      "outputs": [],
      "source": [
        "# estoque\n",
        "e = {'l': 5, 'g': 5, 's': 12}"
      ]
    },
    {
      "cell_type": "markdown",
      "metadata": {
        "id": "s9G5Hep50y0V"
      },
      "source": [
        "Cria modelo"
      ]
    },
    {
      "cell_type": "code",
      "source": [
        "modelo += x[0] <= e['l']\n",
        "modelo += x[1] <= e['g']\n",
        "modelo += x[2] <= e['s']\n",
        "\n",
        "modelo.write(\"modelo2.lp\") # salva modelo em arquivo\n",
        "with open(\"modelo2.lp\") as f: # lê e exibe conteúdo do arquivo\n",
        "  print(f.read())"
      ],
      "metadata": {
        "id": "Ez6lX92UZxBU",
        "colab": {
          "base_uri": "https://localhost:8080/"
        },
        "outputId": "4f7c0a48-dd2d-4c7b-92ce-caabe9ea01c4"
      },
      "execution_count": null,
      "outputs": [
        {
          "output_type": "stream",
          "name": "stdout",
          "text": [
            "\\Problem name: \n",
            "\n",
            "Minimize\n",
            "OBJROW: 90 x_0 + 180 x_1 + 25 x_2\n",
            "Subject To\n",
            "constr(0):  x_0 + x_1 + x_2 = 10\n",
            "constr(1):  0.00500 x_0 + 0.90000 x_1 + 0.09000 x_2 >= -0\n",
            "constr(2):  0.00500 x_0 + 0.90000 x_1 + 0.09000 x_2 <= 0.95000\n",
            "constr(3):  0.14000 x_0 + 0.27000 x_2 >= 1.90000\n",
            "constr(4):  0.14000 x_0 + 0.27000 x_2 <= 2\n",
            "constr(5):  x_0 <= 5\n",
            "constr(6):  x_1 <= 5\n",
            "constr(7):  x_2 <= 12\n",
            "Bounds\n",
            "End\n",
            "\n"
          ]
        }
      ]
    },
    {
      "cell_type": "markdown",
      "metadata": {
        "id": "Ue3ahEFA01L_"
      },
      "source": [
        "Executa"
      ]
    },
    {
      "cell_type": "code",
      "execution_count": null,
      "metadata": {
        "id": "EVs-Fx6D02Tc",
        "colab": {
          "base_uri": "https://localhost:8080/"
        },
        "outputId": "e03ed45f-b7ee-42bd-d8dd-cce85c131d1e"
      },
      "outputs": [
        {
          "output_type": "stream",
          "name": "stdout",
          "text": [
            "Status =  OptimizationStatus.OPTIMAL\n",
            "Solution value  = 603.70\n",
            "\n",
            "Solution:\n",
            "x_0 = 5.00\n",
            "x_1 = 0.19\n",
            "x_2 = 4.81\n"
          ]
        }
      ],
      "source": [
        "solve(modelo)"
      ]
    },
    {
      "cell_type": "markdown",
      "metadata": {
        "id": "2mE7ipJPsR5F"
      },
      "source": [
        "## Exercício 3"
      ]
    },
    {
      "cell_type": "markdown",
      "metadata": {
        "id": "-Er_QuwBsR5F"
      },
      "source": [
        "Suponha agora que duas ligas metálicas devem ser preparadas e os mesmos ingredientes são utilizados em ambas. A liga especificada no Exercício 1 é referida como liga 1 e devem ser produzidas 10 toneladas desta liga. Da outra liga, referida como liga 2, devem ser produzidas 6 toneladas e suas composições mínima e máxima são dadas na tabela abaixo.\n",
        "\n",
        "| | min | max |\n",
        "|:---|:---:|:---:|\n",
        "|Carbono | 0.00 | 40 |\n",
        "|Silício | 12 | 19 |\n"
      ]
    },
    {
      "cell_type": "markdown",
      "source": [
        "### Resposta\n",
        "\n",
        "$$ Min Z = (90 * X1 + 180 * X2 + 25 * X3) + (90 * Y1 + 180 * Y2 + 25 * Y3) $$\n",
        "\n",
        "\n",
        "\n",
        "S. a\n",
        "$$ X1 + X2 + X3 = 10 $$\n",
        "$$ Y1 + Y2 + Y3 = 6 $$\n",
        "$$ 0\\leq 0,5 * X1 + 90 * X2 + 9 * X3 \\leq 9,5 $$\n",
        "$$ 0\\leq 0,5 * Y1 + 90 * Y2 + 9 * Y3 \\leq 40 $$\n",
        "$$ 19\\leq 14 * X1 + 0 * X2 + 27 * X3 \\leq 20 $$\n",
        "$$ 12\\leq 14 * Y1 + 0 * Y2 + 27 * Y3 \\leq 19 $$\n",
        "$$ X1, X2, X3 \\geq 0 $$\n",
        "$$ X1 \\leq 5 $$\n",
        "$$ X2 \\leq 5 $$\n",
        "$$ X3 \\leq 12 $$"
      ],
      "metadata": {
        "id": "Imo9I7bw3qNy"
      }
    },
    {
      "cell_type": "markdown",
      "metadata": {
        "id": "Ay3bSczF1Ldt"
      },
      "source": [
        "### Código"
      ]
    },
    {
      "cell_type": "markdown",
      "metadata": {
        "id": "v12Efn0tMq3m"
      },
      "source": [
        "Carrega dados"
      ]
    },
    {
      "cell_type": "code",
      "execution_count": null,
      "metadata": {
        "id": "dFhCoNM1MtVy"
      },
      "outputs": [],
      "source": [
        "# composições mínimas e máximas dos componentes\n",
        "n = [{'c': 0.0, 's': 0.19}, {'c': 0.0, 's': 0.12}]\n",
        "m = [{'c': 0.095, 's': 0.2}, {'c': 0.4, 's': 0.19}]\n",
        "\n",
        "# quantidade desejada da liga\n",
        "Q = [10, 6]"
      ]
    },
    {
      "cell_type": "markdown",
      "metadata": {
        "id": "xMEEKulx1SN9"
      },
      "source": [
        "Cria modelo"
      ]
    },
    {
      "cell_type": "code",
      "source": [
        "modelo = Model(sense=MINIMIZE, solver_name=CBC)\n",
        "\n",
        "#Criando variáveis\n",
        "x = [modelo.add_var(var_type=CONTINUOUS, name=f\"x_{i}\", lb=0.0) for i in range(3)]\n",
        "\n",
        "y = [modelo.add_var(var_type=CONTINUOUS, name=f\"y_{i}\", lb=0.0) for i in range(3)]\n",
        "\n",
        "#Função objetivo\n",
        "modelo.objective = (c['l']*x[0] + c['g']*x[1] + c['s']*x[2]) + (c['l']*y[0] + c['g']*y[1] + c['s']*y[2])\n",
        "\n",
        "#Restrição quantidade liga 1\n",
        "modelo += x[0] + x[1] + x[2] == Q[0]\n",
        "\n",
        "#Restrição quantidade liga 2\n",
        "modelo += y[0] + y[1] + y[2] == Q[1]\n",
        "\n",
        "#Restrição carbono liga 1\n",
        "carbono = a['l']['c']*x[0] + a['g']['c']*x[1] + a['s']['c']*x[2]\n",
        "\n",
        "modelo += n[0]['c']*Q[0] <= carbono\n",
        "modelo += carbono <= m[0]['c']*Q[0]\n",
        "\n",
        "#Restrição carbono liga 2\n",
        "carbono = a['l']['c']*y[0] + a['g']['c']*y[1] + a['s']['c']*y[2]\n",
        "\n",
        "modelo += n[1]['c']*Q[1] <= carbono\n",
        "modelo += carbono <= m[1]['c']*Q[1]\n",
        "\n",
        "#Restrição silicio liga 1\n",
        "silicio = a['l']['s']*x[0] + a['g']['s']*x[1] + a['s']['s']*x[2]\n",
        "\n",
        "modelo += n[0]['s']*Q[0] <= silicio\n",
        "modelo += silicio <= m[0]['s']*Q[0]\n",
        "\n",
        "#Restrição silicio liga 2\n",
        "silicio = a['l']['s']*y[0] + a['g']['s']*y[1] + a['s']['s']*y[2]\n",
        "\n",
        "modelo += n[1]['s']*Q[1] <= silicio\n",
        "modelo += silicio <= m[1]['s']*Q[1]\n",
        "\n",
        "#Restrição estoque\n",
        "modelo += x[0] + y[0] <= e['l']\n",
        "modelo += x[1] + y[1] <= e['g']\n",
        "modelo += x[2] + y[2] <= e['s']\n",
        "\n",
        "modelo.write(\"modelo3.lp\") # salva modelo em arquivo\n",
        "with open(\"modelo3.lp\") as f: # lê e exibe conteúdo do arquivo\n",
        "  print(f.read())"
      ],
      "metadata": {
        "id": "GWULXSegdJct",
        "colab": {
          "base_uri": "https://localhost:8080/"
        },
        "outputId": "494afdb2-c42f-4f0f-8572-e474ade74ece"
      },
      "execution_count": null,
      "outputs": [
        {
          "output_type": "stream",
          "name": "stdout",
          "text": [
            "\\Problem name: \n",
            "\n",
            "Minimize\n",
            "OBJROW: 90 x_0 + 180 x_1 + 25 x_2 + 90 y_0 + 180 y_1 + 25 y_2\n",
            "Subject To\n",
            "constr(0):  x_0 + x_1 + x_2 = 10\n",
            "constr(1):  y_0 + y_1 + y_2 = 6\n",
            "constr(2):  0.00500 x_0 + 0.90000 x_1 + 0.09000 x_2 >= -0\n",
            "constr(3):  0.00500 x_0 + 0.90000 x_1 + 0.09000 x_2 <= 0.95000\n",
            "constr(4):  0.00500 y_0 + 0.90000 y_1 + 0.09000 y_2 >= -0\n",
            "constr(5):  0.00500 y_0 + 0.90000 y_1 + 0.09000 y_2 <= 2.40000\n",
            "constr(6):  0.14000 x_0 + 0.27000 x_2 >= 1.90000\n",
            "constr(7):  0.14000 x_0 + 0.27000 x_2 <= 2\n",
            "constr(8):  0.14000 y_0 + 0.27000 y_2 >= 0.72000\n",
            "constr(9):  0.14000 y_0 + 0.27000 y_2 <= 1.14000\n",
            "constr(10):  x_0 + y_0 <= 5\n",
            "constr(11):  x_1 + y_1 <= 5\n",
            "constr(12):  x_2 + y_2 <= 12\n",
            "Bounds\n",
            "End\n",
            "\n"
          ]
        }
      ]
    },
    {
      "cell_type": "markdown",
      "metadata": {
        "id": "8JECPXkw1UYP"
      },
      "source": [
        "Executa"
      ]
    },
    {
      "cell_type": "code",
      "execution_count": null,
      "metadata": {
        "id": "21cod-L71Wmr",
        "colab": {
          "base_uri": "https://localhost:8080/"
        },
        "outputId": "4e5a53bb-9a19-4b74-a6aa-954122f9c780"
      },
      "outputs": [
        {
          "output_type": "stream",
          "name": "stdout",
          "text": [
            "Status =  OptimizationStatus.OPTIMAL\n",
            "Solution value  = 1029.26\n",
            "\n",
            "Solution:\n",
            "x_0 = 4.32\n",
            "x_1 = 0.51\n",
            "x_2 = 5.17\n",
            "y_0 = 0.68\n",
            "y_1 = 1.45\n",
            "y_2 = 3.87\n"
          ]
        }
      ],
      "source": [
        "solve(modelo)"
      ]
    }
  ],
  "metadata": {
    "colab": {
      "provenance": [],
      "include_colab_link": true
    },
    "kernelspec": {
      "display_name": "Python 3",
      "language": "python",
      "name": "python3"
    },
    "language_info": {
      "codemirror_mode": {
        "name": "ipython",
        "version": 3
      },
      "file_extension": ".py",
      "mimetype": "text/x-python",
      "name": "python",
      "nbconvert_exporter": "python",
      "pygments_lexer": "ipython3",
      "version": "3.9.12"
    },
    "vscode": {
      "interpreter": {
        "hash": "375d3134e2271422fd67fc0237b3f1ee69ce72c62d280e2fa6411e6a088e62bf"
      }
    }
  },
  "nbformat": 4,
  "nbformat_minor": 0
}