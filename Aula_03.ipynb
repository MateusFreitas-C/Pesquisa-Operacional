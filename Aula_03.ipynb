{
  "nbformat": 4,
  "nbformat_minor": 0,
  "metadata": {
    "colab": {
      "provenance": [],
      "include_colab_link": true
    },
    "kernelspec": {
      "name": "python3",
      "display_name": "Python 3"
    },
    "language_info": {
      "name": "python"
    }
  },
  "cells": [
    {
      "cell_type": "markdown",
      "metadata": {
        "id": "view-in-github",
        "colab_type": "text"
      },
      "source": [
        "<a href=\"https://colab.research.google.com/github/MateusFreitas-C/Pesquisa-Operacional/blob/main/Aula_03.ipynb\" target=\"_parent\"><img src=\"https://colab.research.google.com/assets/colab-badge.svg\" alt=\"Open In Colab\"/></a>"
      ]
    },
    {
      "cell_type": "markdown",
      "source": [
        "# Aula prática: Programação Linear Inteira"
      ],
      "metadata": {
        "id": "KkkfGB7mizn4"
      }
    },
    {
      "cell_type": "markdown",
      "source": [
        "## Exercício 1\n",
        "<sup>Exercício 3.7 do livro `Pesquisa Operacional` de `Arenales, Armentano, Morabito e Yanasse`.</sup>"
      ],
      "metadata": {
        "id": "6Pq0qYFUi66C"
      }
    },
    {
      "cell_type": "markdown",
      "source": [
        "### Descrição do problema\n",
        "Em cada dia da semana, uma loja requer um número de empregados em tempo integral, de acordo com a tabela abaixo. Cada empregado deve trabalhar cinco dias consecutivos e descansar dois. Cada empregado recebe R$30 por dia.\n",
        "\n",
        "| | Segunda | Terça | Quarta | Quinta | Sexta | Sabádo | Domingo |\n",
        "|:---|:---:|:---:|:---:|:---:|:---:|:---:|:---:|\n",
        "| Empregados | 10 | 6 | 8 | 5 | 9 | 4 | 6 |\n",
        "\n",
        "Determine o número de empregados em tempo integral de forma a minimizar a despesa total com salários."
      ],
      "metadata": {
        "id": "18u4P6_fjHTa"
      }
    },
    {
      "cell_type": "markdown",
      "source": [
        "### Resolução"
      ],
      "metadata": {
        "id": "EW2_LyQlkB9Y"
      }
    },
    {
      "cell_type": "code",
      "execution_count": null,
      "metadata": {
        "id": "UToKjaulioTm"
      },
      "outputs": [],
      "source": [
        "# instalação e importação do pacote mip\n",
        "from mip import *\n",
        "\n",
        "# funcões usadas posteriormente:\n",
        "\n",
        "# resolve o modelo e mostra os valores das variáveis\n",
        "def solve(model):\n",
        "  status = model.optimize()\n",
        "\n",
        "  print(\"Status = \", status)\n",
        "  print(f\"Solution value  = {model.objective_value:.2f}\\n\")\n",
        "\n",
        "  print(\"Solution:\")\n",
        "  for v in model.vars:\n",
        "      print(f\"{v.name} = {v.x:.2f}\")\n",
        "\n",
        "\n",
        "# salva modelo em arquivo lp, e mostra o conteúdo\n",
        "def save(model, filename):\n",
        "  model.write(filename) # salva modelo em arquivo\n",
        "  with open(filename, \"r\") as f: # lê e exibe conteúdo do arquivo\n",
        "    print(f.read())"
      ]
    },
    {
      "cell_type": "code",
      "source": [
        "model = Model(sense=MINIMIZE, solver_name=CBC)\n",
        "\n",
        "#Cada variável será a quantidade de trabalhadores que iniciará a trabalhar em um determinado dia da semana.\n",
        "#x[0] segunda, x[1] terça, x[2] quarta, x[3] quinta, x[4] sexta, x[5] sábado, x[6] domingo\n",
        "x = [model.add_var(var_type=INTEGER, name=f\"x_{i}\", lb=0.0) for i in range(7)]\n",
        "\n",
        "model.objective = xsum(150 * x[i] for i in range(7))\n",
        "\n",
        "model += x[0] + x[3] + x[4] + x[5] + x[6] >= 10\n",
        "\n",
        "model += x[1] + x[4] + x[5] + x[6] + x[0] >= 6\n",
        "\n",
        "model += x[2] + x[5] + x[6] + x[0] + x[1] >= 8\n",
        "\n",
        "model += x[3] + x[6] + x[0] + x[1] + x[2] >= 5\n",
        "\n",
        "model += x[4] + x[0] + x[1] + x[2] + x[3] >= 9\n",
        "\n",
        "model += x[5] + x[1] + x[2] + x[3] + x[4] >= 4\n",
        "\n",
        "model += x[6] + x[2] + x[3] + x[4] + x[5] >= 6\n",
        "\n",
        "\n",
        "save(model, \"model.lp\")"
      ],
      "metadata": {
        "id": "hpkM_kZ1qthr",
        "colab": {
          "base_uri": "https://localhost:8080/"
        },
        "outputId": "e918f907-ca0e-4c7c-ec44-32ccf5cb6a06"
      },
      "execution_count": null,
      "outputs": [
        {
          "output_type": "stream",
          "name": "stdout",
          "text": [
            "\\Problem name: \n",
            "\n",
            "Minimize\n",
            "OBJROW: 150 x_0 + 150 x_1 + 150 x_2 + 150 x_3 + 150 x_4 + 150 x_5 + 150 x_6\n",
            "Subject To\n",
            "constr(0):  x_0 + x_3 + x_4 + x_5 + x_6 >= 10\n",
            "constr(1):  x_0 + x_1 + x_4 + x_5 + x_6 >= 6\n",
            "constr(2):  x_0 + x_1 + x_2 + x_5 + x_6 >= 8\n",
            "constr(3):  x_0 + x_1 + x_2 + x_3 + x_6 >= 5\n",
            "constr(4):  x_0 + x_1 + x_2 + x_3 + x_4 >= 9\n",
            "constr(5):  x_1 + x_2 + x_3 + x_4 + x_5 >= 4\n",
            "constr(6):  x_2 + x_3 + x_4 + x_5 + x_6 >= 6\n",
            "Bounds\n",
            "Integers\n",
            "x_0 x_1 x_2 x_3 x_4 x_5 x_6 \n",
            "End\n",
            "\n"
          ]
        }
      ]
    },
    {
      "cell_type": "code",
      "source": [
        "solve(model)"
      ],
      "metadata": {
        "id": "ob9Rw0Pvdjrv",
        "colab": {
          "base_uri": "https://localhost:8080/"
        },
        "outputId": "3b84d3ec-d97c-450a-ccf5-f0689b89108c"
      },
      "execution_count": null,
      "outputs": [
        {
          "output_type": "stream",
          "name": "stdout",
          "text": [
            "Status =  OptimizationStatus.OPTIMAL\n",
            "Solution value  = 1650.00\n",
            "\n",
            "Solution:\n",
            "x_0 = 5.00\n",
            "x_1 = 0.00\n",
            "x_2 = 1.00\n",
            "x_3 = 3.00\n",
            "x_4 = 0.00\n",
            "x_5 = 2.00\n",
            "x_6 = 0.00\n"
          ]
        }
      ]
    },
    {
      "cell_type": "markdown",
      "source": [
        "## Exercício 2\n",
        "<sup>Exercício da lista do Professor Marcone Jamilson (UFOP)</sup>"
      ],
      "metadata": {
        "id": "Bzy5FAyisRxv"
      }
    },
    {
      "cell_type": "markdown",
      "source": [
        "### Descrição do problema\n",
        "Uma serralheria dispõe de barras de 6 metros de comprimento que devem ser cortadas para obter barras menores nos seguintes tamanhos: 50 barras de 2 metros, 60 barras de 3 metros e 90 barras de 4 metros. Elabore um modelo de programação linear inteira que minimize a quantidade de barras utilizadas.\n",
        "\n",
        "Dica: enumere as possíveis formas de se cortar uma barra de 6 metros em barras menores dos tamanhos listados acima."
      ],
      "metadata": {
        "id": "ZhYAmS2fso88"
      }
    },
    {
      "cell_type": "markdown",
      "source": [
        "### Resolução"
      ],
      "metadata": {
        "id": "uSjlnbBgsy5M"
      }
    },
    {
      "cell_type": "code",
      "source": [
        "model = Model(sense=MINIMIZE, solver_name=CBC)\n",
        "\n",
        "# x[0] = 3 barras de 2 metros, x[1] 2 barras de 3 metros, x[2] 1 barra de 4 metros e outra de 2 metros, x[3] 1 barra de 2 metros e 1 de 3 metros\n",
        "x = [model.add_var(var_type=INTEGER, name=f\"x_{i}\", lb=0.0) for i in range(4)]\n",
        "\n",
        "model.objective = x[0] + x[1] + x[2] + x[3]\n",
        "\n",
        "model+= x[0]*3 + x[2] + x[3] >= 50\n",
        "\n",
        "model+= x[1]*2 + x[3] >= 60\n",
        "\n",
        "model+= x[2] >= 90\n",
        "\n",
        "save(model, \"model2.lp\")"
      ],
      "metadata": {
        "id": "nuQ9Ve2Xxd6V",
        "colab": {
          "base_uri": "https://localhost:8080/"
        },
        "outputId": "5ea296a1-91c1-40fb-eae6-4169ee3f3f31"
      },
      "execution_count": null,
      "outputs": [
        {
          "output_type": "stream",
          "name": "stdout",
          "text": [
            "\\Problem name: \n",
            "\n",
            "Minimize\n",
            "OBJROW: x_0 + x_1 + x_2 + x_3\n",
            "Subject To\n",
            "constr(0):  3 x_0 + x_2 + x_3 >= 50\n",
            "constr(1):  2 x_1 + x_3 >= 60\n",
            "constr(2):  x_2 >= 90\n",
            "Bounds\n",
            "Integers\n",
            "x_0 x_1 x_2 x_3 \n",
            "End\n",
            "\n"
          ]
        }
      ]
    },
    {
      "cell_type": "code",
      "source": [
        "solve(model)"
      ],
      "metadata": {
        "id": "VfS8iPfrdZSD",
        "colab": {
          "base_uri": "https://localhost:8080/"
        },
        "outputId": "b385185f-d126-4c9b-a355-1a18de83372b"
      },
      "execution_count": null,
      "outputs": [
        {
          "output_type": "stream",
          "name": "stdout",
          "text": [
            "Status =  OptimizationStatus.OPTIMAL\n",
            "Solution value  = 120.00\n",
            "\n",
            "Solution:\n",
            "x_0 = 0.00\n",
            "x_1 = 30.00\n",
            "x_2 = 90.00\n",
            "x_3 = 0.00\n"
          ]
        }
      ]
    }
  ]
}